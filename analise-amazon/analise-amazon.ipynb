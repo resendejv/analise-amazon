{
 "cells": [
  {
   "cell_type": "markdown",
   "id": "daa15e73-7004-4398-8353-7a171c0bfeec",
   "metadata": {},
   "source": [
    "@Importações de Todas Bibliotecas"
   ]
  },
  {
   "cell_type": "code",
   "execution_count": 2,
   "id": "9fbb5638-e540-4da6-ba86-1a1bbb8e7fba",
   "metadata": {},
   "outputs": [],
   "source": [
    "import numpy as np\n",
    "import pandas as pd\n",
    "import matplotlib.pyplot as plt\n",
    "import seaborn as sns"
   ]
  },
  {
   "cell_type": "markdown",
   "id": "f01bdf71-5cfb-4d0c-ac81-b95e03b9efbd",
   "metadata": {},
   "source": [
    "#Lendo o arquivo CSV com a biblioteca Pandas:"
   ]
  },
  {
   "cell_type": "code",
   "execution_count": 4,
   "id": "5a428dec-6be5-4b78-b0ed-72889f048b98",
   "metadata": {},
   "outputs": [],
   "source": [
    "df = pd.read_csv('amazon.csv', encoding='latin-1')"
   ]
  },
  {
   "cell_type": "code",
   "execution_count": 5,
   "id": "3a95552e-b8c1-4be5-b1b3-e14191f68800",
   "metadata": {},
   "outputs": [
    {
     "data": {
      "text/plain": [
       "32"
      ]
     },
     "execution_count": 5,
     "metadata": {},
     "output_type": "execute_result"
    }
   ],
   "source": [
    "df.duplicated().sum()"
   ]
  },
  {
   "cell_type": "markdown",
   "id": "b741b6c0-44bb-4c54-96cd-2bb1b841c5c6",
   "metadata": {},
   "source": [
    "Como podemos ver, existem 32 valores duplicados, então vamos removê-los.\n"
   ]
  },
  {
   "cell_type": "code",
   "execution_count": 7,
   "id": "63111f66-923e-4b77-ade5-1480f6257565",
   "metadata": {},
   "outputs": [],
   "source": [
    "df.drop_duplicates(inplace=True)"
   ]
  },
  {
   "cell_type": "code",
   "execution_count": 8,
   "id": "f3db50da-b1a1-419d-b3fa-c5c4b059b487",
   "metadata": {},
   "outputs": [
    {
     "name": "stdout",
     "output_type": "stream",
     "text": [
      "<class 'pandas.core.frame.DataFrame'>\n",
      "Index: 6422 entries, 0 to 6453\n",
      "Data columns (total 5 columns):\n",
      " #   Column  Non-Null Count  Dtype  \n",
      "---  ------  --------------  -----  \n",
      " 0   year    6422 non-null   int64  \n",
      " 1   state   6422 non-null   object \n",
      " 2   month   6422 non-null   object \n",
      " 3   number  6422 non-null   float64\n",
      " 4   date    6422 non-null   object \n",
      "dtypes: float64(1), int64(1), object(3)\n",
      "memory usage: 301.0+ KB\n"
     ]
    }
   ],
   "source": [
    "df.info()"
   ]
  },
  {
   "cell_type": "markdown",
   "id": "3f9baa05-2db1-4668-bb70-604856715636",
   "metadata": {},
   "source": [
    "*Buscando informações dos dados*:\n",
    "- São 6.422 registros\n",
    "- Colunas de ano, estado, mês, número e data"
   ]
  },
  {
   "cell_type": "markdown",
   "id": "6e6c4fa0-f60b-4ab9-928c-a28b7ff90cf6",
   "metadata": {},
   "source": [
    "Os números no Brasil usam ponto (.) como separador de milhar, mas o Python pode interpretá-los como separadores decimais. Para corrigir isso, podemos converter a coluna number para str, remover os pontos e depois transformá-la de volta para um número (int)."
   ]
  },
  {
   "cell_type": "code",
   "execution_count": 11,
   "id": "83ce4f8f-852e-44a8-a811-0d9536b7f7e0",
   "metadata": {},
   "outputs": [],
   "source": [
    "df['number'] = df['number'].astype(str).str.replace('.', '', regex=False)"
   ]
  },
  {
   "cell_type": "code",
   "execution_count": 12,
   "id": "5dee4f86-7826-42b4-8836-e5859ccf801b",
   "metadata": {},
   "outputs": [],
   "source": [
    "df['number'] = df['number'].astype(str).apply(lambda x: x[:-1] if x.endswith('0') else x)"
   ]
  },
  {
   "cell_type": "code",
   "execution_count": 13,
   "id": "c6e248ae-28af-490f-84f7-8a6d7e8d6456",
   "metadata": {},
   "outputs": [],
   "source": [
    "df['number'] = df['number'].astype(int)"
   ]
  },
  {
   "cell_type": "code",
   "execution_count": 14,
   "id": "d3543393-99db-473d-9403-f4b5cd619dca",
   "metadata": {},
   "outputs": [
    {
     "data": {
      "text/html": [
       "<div>\n",
       "<style scoped>\n",
       "    .dataframe tbody tr th:only-of-type {\n",
       "        vertical-align: middle;\n",
       "    }\n",
       "\n",
       "    .dataframe tbody tr th {\n",
       "        vertical-align: top;\n",
       "    }\n",
       "\n",
       "    .dataframe thead th {\n",
       "        text-align: right;\n",
       "    }\n",
       "</style>\n",
       "<table border=\"1\" class=\"dataframe\">\n",
       "  <thead>\n",
       "    <tr style=\"text-align: right;\">\n",
       "      <th></th>\n",
       "      <th>year</th>\n",
       "      <th>state</th>\n",
       "      <th>month</th>\n",
       "      <th>number</th>\n",
       "      <th>date</th>\n",
       "    </tr>\n",
       "  </thead>\n",
       "  <tbody>\n",
       "    <tr>\n",
       "      <th>6449</th>\n",
       "      <td>2012</td>\n",
       "      <td>Tocantins</td>\n",
       "      <td>Dezembro</td>\n",
       "      <td>128</td>\n",
       "      <td>2012-01-01</td>\n",
       "    </tr>\n",
       "    <tr>\n",
       "      <th>6450</th>\n",
       "      <td>2013</td>\n",
       "      <td>Tocantins</td>\n",
       "      <td>Dezembro</td>\n",
       "      <td>85</td>\n",
       "      <td>2013-01-01</td>\n",
       "    </tr>\n",
       "    <tr>\n",
       "      <th>6451</th>\n",
       "      <td>2014</td>\n",
       "      <td>Tocantins</td>\n",
       "      <td>Dezembro</td>\n",
       "      <td>223</td>\n",
       "      <td>2014-01-01</td>\n",
       "    </tr>\n",
       "    <tr>\n",
       "      <th>6452</th>\n",
       "      <td>2015</td>\n",
       "      <td>Tocantins</td>\n",
       "      <td>Dezembro</td>\n",
       "      <td>373</td>\n",
       "      <td>2015-01-01</td>\n",
       "    </tr>\n",
       "    <tr>\n",
       "      <th>6453</th>\n",
       "      <td>2016</td>\n",
       "      <td>Tocantins</td>\n",
       "      <td>Dezembro</td>\n",
       "      <td>119</td>\n",
       "      <td>2016-01-01</td>\n",
       "    </tr>\n",
       "  </tbody>\n",
       "</table>\n",
       "</div>"
      ],
      "text/plain": [
       "      year      state     month  number        date\n",
       "6449  2012  Tocantins  Dezembro     128  2012-01-01\n",
       "6450  2013  Tocantins  Dezembro      85  2013-01-01\n",
       "6451  2014  Tocantins  Dezembro     223  2014-01-01\n",
       "6452  2015  Tocantins  Dezembro     373  2015-01-01\n",
       "6453  2016  Tocantins  Dezembro     119  2016-01-01"
      ]
     },
     "execution_count": 14,
     "metadata": {},
     "output_type": "execute_result"
    }
   ],
   "source": [
    "df.tail()"
   ]
  },
  {
   "cell_type": "code",
   "execution_count": 15,
   "id": "d66208c1-9dbe-4d2e-9d92-06bdf07dcce6",
   "metadata": {},
   "outputs": [],
   "source": [
    "df.drop(['date'],axis=1,inplace=True)"
   ]
  },
  {
   "cell_type": "code",
   "execution_count": 16,
   "id": "1f43888c-4464-4118-a7e6-6901a13bb9e9",
   "metadata": {},
   "outputs": [
    {
     "data": {
      "text/html": [
       "<div>\n",
       "<style scoped>\n",
       "    .dataframe tbody tr th:only-of-type {\n",
       "        vertical-align: middle;\n",
       "    }\n",
       "\n",
       "    .dataframe tbody tr th {\n",
       "        vertical-align: top;\n",
       "    }\n",
       "\n",
       "    .dataframe thead th {\n",
       "        text-align: right;\n",
       "    }\n",
       "</style>\n",
       "<table border=\"1\" class=\"dataframe\">\n",
       "  <thead>\n",
       "    <tr style=\"text-align: right;\">\n",
       "      <th></th>\n",
       "      <th>year</th>\n",
       "      <th>state</th>\n",
       "      <th>month</th>\n",
       "      <th>number</th>\n",
       "    </tr>\n",
       "  </thead>\n",
       "  <tbody>\n",
       "    <tr>\n",
       "      <th>0</th>\n",
       "      <td>1998</td>\n",
       "      <td>Acre</td>\n",
       "      <td>Janeiro</td>\n",
       "      <td>0</td>\n",
       "    </tr>\n",
       "    <tr>\n",
       "      <th>1</th>\n",
       "      <td>1999</td>\n",
       "      <td>Acre</td>\n",
       "      <td>Janeiro</td>\n",
       "      <td>0</td>\n",
       "    </tr>\n",
       "    <tr>\n",
       "      <th>2</th>\n",
       "      <td>2000</td>\n",
       "      <td>Acre</td>\n",
       "      <td>Janeiro</td>\n",
       "      <td>0</td>\n",
       "    </tr>\n",
       "    <tr>\n",
       "      <th>3</th>\n",
       "      <td>2001</td>\n",
       "      <td>Acre</td>\n",
       "      <td>Janeiro</td>\n",
       "      <td>0</td>\n",
       "    </tr>\n",
       "    <tr>\n",
       "      <th>4</th>\n",
       "      <td>2002</td>\n",
       "      <td>Acre</td>\n",
       "      <td>Janeiro</td>\n",
       "      <td>0</td>\n",
       "    </tr>\n",
       "    <tr>\n",
       "      <th>...</th>\n",
       "      <td>...</td>\n",
       "      <td>...</td>\n",
       "      <td>...</td>\n",
       "      <td>...</td>\n",
       "    </tr>\n",
       "    <tr>\n",
       "      <th>6449</th>\n",
       "      <td>2012</td>\n",
       "      <td>Tocantins</td>\n",
       "      <td>Dezembro</td>\n",
       "      <td>128</td>\n",
       "    </tr>\n",
       "    <tr>\n",
       "      <th>6450</th>\n",
       "      <td>2013</td>\n",
       "      <td>Tocantins</td>\n",
       "      <td>Dezembro</td>\n",
       "      <td>85</td>\n",
       "    </tr>\n",
       "    <tr>\n",
       "      <th>6451</th>\n",
       "      <td>2014</td>\n",
       "      <td>Tocantins</td>\n",
       "      <td>Dezembro</td>\n",
       "      <td>223</td>\n",
       "    </tr>\n",
       "    <tr>\n",
       "      <th>6452</th>\n",
       "      <td>2015</td>\n",
       "      <td>Tocantins</td>\n",
       "      <td>Dezembro</td>\n",
       "      <td>373</td>\n",
       "    </tr>\n",
       "    <tr>\n",
       "      <th>6453</th>\n",
       "      <td>2016</td>\n",
       "      <td>Tocantins</td>\n",
       "      <td>Dezembro</td>\n",
       "      <td>119</td>\n",
       "    </tr>\n",
       "  </tbody>\n",
       "</table>\n",
       "<p>6422 rows × 4 columns</p>\n",
       "</div>"
      ],
      "text/plain": [
       "      year      state     month  number\n",
       "0     1998       Acre   Janeiro       0\n",
       "1     1999       Acre   Janeiro       0\n",
       "2     2000       Acre   Janeiro       0\n",
       "3     2001       Acre   Janeiro       0\n",
       "4     2002       Acre   Janeiro       0\n",
       "...    ...        ...       ...     ...\n",
       "6449  2012  Tocantins  Dezembro     128\n",
       "6450  2013  Tocantins  Dezembro      85\n",
       "6451  2014  Tocantins  Dezembro     223\n",
       "6452  2015  Tocantins  Dezembro     373\n",
       "6453  2016  Tocantins  Dezembro     119\n",
       "\n",
       "[6422 rows x 4 columns]"
      ]
     },
     "execution_count": 16,
     "metadata": {},
     "output_type": "execute_result"
    }
   ],
   "source": [
    "df"
   ]
  },
  {
   "cell_type": "markdown",
   "id": "dd9c52f9-f2f2-411a-aa3c-f32aa9c1e88d",
   "metadata": {},
   "source": [
    "Removendo warnings indesejados"
   ]
  },
  {
   "cell_type": "code",
   "execution_count": 18,
   "id": "b1287638-6618-4829-ba54-5da5ec6e52f2",
   "metadata": {},
   "outputs": [],
   "source": [
    "import warnings\n",
    "warnings.filterwarnings('ignore')"
   ]
  },
  {
   "cell_type": "markdown",
   "id": "e2615fc4-3b79-4790-b480-1ef08da97fbe",
   "metadata": {},
   "source": [
    "Organizando a ordem dos meses, para poder agrupar corretamente a soma"
   ]
  },
  {
   "cell_type": "code",
   "execution_count": 20,
   "id": "3004d054-fa3b-45be-aec0-bba50f5e9b52",
   "metadata": {},
   "outputs": [],
   "source": [
    "month_order = ['Janeiro', 'Fevereiro', 'Março', 'Abril', 'Maio', 'Junho', \n",
    "               'Julho', 'Agosto', 'Setembro', 'Outubro', 'Novembro', 'Dezembro']\n",
    "\n",
    "soma_mes = df.groupby('month')['number'].mean().reset_index()\n",
    "\n",
    "soma_mes['month'] = pd.Categorical(soma_mes['month'], categories=month_order, ordered=True)\n"
   ]
  },
  {
   "cell_type": "code",
   "execution_count": 81,
   "id": "bd776cc3-9a56-4346-9e58-0b2f65b46006",
   "metadata": {},
   "outputs": [
    {
     "data": {
      "image/png": "[encoded data removed]",
      "text/plain": [
       "<Figure size 640x480 with 1 Axes>"
      ]
     },
     "metadata": {},
     "output_type": "display_data"
    }
   ],
   "source": [
    "sns.set_style('darkgrid')\n",
    "sns.barplot(x='month', y='number', data=soma_mes, palette='Reds',hue='number',edgecolor='black')\n",
    "plt.xticks(rotation=20)\n",
    "\n",
    "plt.xlabel('')\n",
    "plt.ylabel('')\n",
    "plt.title('Média de registros por mês (1998 - 2017)',fontweight='bold')\n",
    "plt.tight_layout()\n",
    "plt.legend(labels='')\n",
    "plt.savefig('C:/Users/zoomg/Downloads/analise-amazon/graficos/mediames.png')"
   ]
  },
  {
   "cell_type": "code",
   "execution_count": null,
   "id": "b893e3b1-6587-4d90-a0d8-125fd690ac7b",
   "metadata": {},
   "outputs": [],
   "source": []
  },
  {
   "cell_type": "code",
   "execution_count": 22,
   "id": "c7a12889-fe1f-40c8-bdef-3d292da58a6d",
   "metadata": {},
   "outputs": [
    {
     "data": {
      "text/plain": [
       "25963"
      ]
     },
     "execution_count": 22,
     "metadata": {},
     "output_type": "execute_result"
    }
   ],
   "source": [
    "df['number'].max()"
   ]
  },
  {
   "cell_type": "code",
   "execution_count": 23,
   "id": "483b65b0-899c-4ab0-ba58-a0919205ae25",
   "metadata": {},
   "outputs": [
    {
     "data": {
      "text/html": [
       "<div>\n",
       "<style scoped>\n",
       "    .dataframe tbody tr th:only-of-type {\n",
       "        vertical-align: middle;\n",
       "    }\n",
       "\n",
       "    .dataframe tbody tr th {\n",
       "        vertical-align: top;\n",
       "    }\n",
       "\n",
       "    .dataframe thead th {\n",
       "        text-align: right;\n",
       "    }\n",
       "</style>\n",
       "<table border=\"1\" class=\"dataframe\">\n",
       "  <thead>\n",
       "    <tr style=\"text-align: right;\">\n",
       "      <th></th>\n",
       "      <th>year</th>\n",
       "      <th>state</th>\n",
       "      <th>month</th>\n",
       "      <th>number</th>\n",
       "    </tr>\n",
       "  </thead>\n",
       "  <tbody>\n",
       "    <tr>\n",
       "      <th>2560</th>\n",
       "      <td>2007</td>\n",
       "      <td>Mato Grosso</td>\n",
       "      <td>Setembro</td>\n",
       "      <td>25963</td>\n",
       "    </tr>\n",
       "  </tbody>\n",
       "</table>\n",
       "</div>"
      ],
      "text/plain": [
       "      year        state     month  number\n",
       "2560  2007  Mato Grosso  Setembro   25963"
      ]
     },
     "execution_count": 23,
     "metadata": {},
     "output_type": "execute_result"
    }
   ],
   "source": [
    "df[df['number']==25963] "
   ]
  },
  {
   "cell_type": "code",
   "execution_count": null,
   "id": "21cfca96-0fd8-4f1d-bced-bca98b6d95d0",
   "metadata": {},
   "outputs": [],
   "source": []
  },
  {
   "cell_type": "code",
   "execution_count": null,
   "id": "827ca1b8-3d11-42b3-a274-428a9b31c1d7",
   "metadata": {},
   "outputs": [],
   "source": []
  },
  {
   "cell_type": "code",
   "execution_count": null,
   "id": "00054516-261e-4547-8bdf-d73c43d88d3e",
   "metadata": {},
   "outputs": [],
   "source": []
  },
  {
   "cell_type": "code",
   "execution_count": 24,
   "id": "89ad260f-c1a4-44ed-beae-e7d1e4f65f6a",
   "metadata": {},
   "outputs": [],
   "source": [
    "df_decade1 = df[(df['year'] >= 1998) & (df['year'] <= 2007)]"
   ]
  },
  {
   "cell_type": "code",
   "execution_count": 25,
   "id": "e2387106-7fe2-4beb-b949-3ce44a9104e0",
   "metadata": {},
   "outputs": [],
   "source": [
    "df_decade2 = df[(df['year'] >= 2008) & (df['year'] <= 2017)]"
   ]
  },
  {
   "cell_type": "code",
   "execution_count": 87,
   "id": "2008efe6-d72e-40de-8281-ab54d4814035",
   "metadata": {},
   "outputs": [
    {
     "data": {
      "image/png": "[encoded data removed]",
      "text/plain": [
       "<Figure size 800x400 with 1 Axes>"
      ]
     },
     "metadata": {},
     "output_type": "display_data"
    }
   ],
   "source": [
    "df_sum_year = df_decade1.groupby('year')['number'].sum().reset_index()\n",
    "\n",
    "plt.figure(figsize=(8, 4))\n",
    "sns.barplot(x='year', y='number', data=df_sum_year, palette='crest')\n",
    "\n",
    "plt.title('Total de Queimadas por Ano (1998 - 2007)', fontweight='bold')\n",
    "plt.xlabel('Ano')\n",
    "plt.ylabel('')\n",
    "plt.savefig('C:/Users/zoomg/Downloads/analise-amazon/graficos/decada1.png')"
   ]
  },
  {
   "cell_type": "code",
   "execution_count": 85,
   "id": "f8ede972-1a20-47c9-a03d-e3b07ec321b7",
   "metadata": {},
   "outputs": [
    {
     "data": {
      "image/png": "[encoded data removed]",
      "text/plain": [
       "<Figure size 800x400 with 1 Axes>"
      ]
     },
     "metadata": {},
     "output_type": "display_data"
    }
   ],
   "source": [
    "df_sum_year2 = df_decade2.groupby('year')['number'].sum().reset_index()\n",
    "\n",
    "plt.figure(figsize=(8, 4))\n",
    "sns.barplot(x='year', y='number', data=df_sum_year2, palette='crest')\n",
    "\n",
    "plt.title('Total de Queimadas por Ano (2008 - 2017)', fontweight='bold')\n",
    "plt.xlabel('Ano')\n",
    "plt.ylabel('')\n",
    "plt.savefig('C:/Users/zoomg/Downloads/analise-amazon/graficos/decada2.png')"
   ]
  },
  {
   "cell_type": "code",
   "execution_count": null,
   "id": "bb444792-cba1-4f9b-8453-32c4655942e1",
   "metadata": {},
   "outputs": [],
   "source": []
  },
  {
   "cell_type": "code",
   "execution_count": 28,
   "id": "0d45e0a2-eaf3-4257-90f1-2fd02c8675d1",
   "metadata": {},
   "outputs": [
    {
     "data": {
      "text/html": [
       "<div>\n",
       "<style scoped>\n",
       "    .dataframe tbody tr th:only-of-type {\n",
       "        vertical-align: middle;\n",
       "    }\n",
       "\n",
       "    .dataframe tbody tr th {\n",
       "        vertical-align: top;\n",
       "    }\n",
       "\n",
       "    .dataframe thead th {\n",
       "        text-align: right;\n",
       "    }\n",
       "</style>\n",
       "<table border=\"1\" class=\"dataframe\">\n",
       "  <thead>\n",
       "    <tr style=\"text-align: right;\">\n",
       "      <th></th>\n",
       "      <th>state</th>\n",
       "      <th>number</th>\n",
       "    </tr>\n",
       "  </thead>\n",
       "  <tbody>\n",
       "    <tr>\n",
       "      <th>0</th>\n",
       "      <td>Mato Grosso</td>\n",
       "      <td>767890</td>\n",
       "    </tr>\n",
       "    <tr>\n",
       "      <th>1</th>\n",
       "      <td>Pará</td>\n",
       "      <td>577841</td>\n",
       "    </tr>\n",
       "    <tr>\n",
       "      <th>2</th>\n",
       "      <td>Maranhao</td>\n",
       "      <td>375279</td>\n",
       "    </tr>\n",
       "    <tr>\n",
       "      <th>3</th>\n",
       "      <td>Bahia</td>\n",
       "      <td>226979</td>\n",
       "    </tr>\n",
       "    <tr>\n",
       "      <th>4</th>\n",
       "      <td>Tocantins</td>\n",
       "      <td>212432</td>\n",
       "    </tr>\n",
       "    <tr>\n",
       "      <th>5</th>\n",
       "      <td>Rondonia</td>\n",
       "      <td>185387</td>\n",
       "    </tr>\n",
       "    <tr>\n",
       "      <th>6</th>\n",
       "      <td>Piau</td>\n",
       "      <td>178707</td>\n",
       "    </tr>\n",
       "    <tr>\n",
       "      <th>7</th>\n",
       "      <td>Minas Gerais</td>\n",
       "      <td>169223</td>\n",
       "    </tr>\n",
       "    <tr>\n",
       "      <th>8</th>\n",
       "      <td>Amazonas</td>\n",
       "      <td>117467</td>\n",
       "    </tr>\n",
       "    <tr>\n",
       "      <th>9</th>\n",
       "      <td>Goias</td>\n",
       "      <td>111970</td>\n",
       "    </tr>\n",
       "    <tr>\n",
       "      <th>10</th>\n",
       "      <td>Ceara</td>\n",
       "      <td>80162</td>\n",
       "    </tr>\n",
       "    <tr>\n",
       "      <th>11</th>\n",
       "      <td>Acre</td>\n",
       "      <td>68345</td>\n",
       "    </tr>\n",
       "    <tr>\n",
       "      <th>12</th>\n",
       "      <td>Paraiba</td>\n",
       "      <td>65197</td>\n",
       "    </tr>\n",
       "    <tr>\n",
       "      <th>13</th>\n",
       "      <td>Sao Paulo</td>\n",
       "      <td>62308</td>\n",
       "    </tr>\n",
       "    <tr>\n",
       "      <th>14</th>\n",
       "      <td>Rio</td>\n",
       "      <td>49955</td>\n",
       "    </tr>\n",
       "  </tbody>\n",
       "</table>\n",
       "</div>"
      ],
      "text/plain": [
       "           state  number\n",
       "0    Mato Grosso  767890\n",
       "1           Pará  577841\n",
       "2       Maranhao  375279\n",
       "3          Bahia  226979\n",
       "4      Tocantins  212432\n",
       "5       Rondonia  185387\n",
       "6           Piau  178707\n",
       "7   Minas Gerais  169223\n",
       "8       Amazonas  117467\n",
       "9          Goias  111970\n",
       "10         Ceara   80162\n",
       "11          Acre   68345\n",
       "12       Paraiba   65197\n",
       "13     Sao Paulo   62308\n",
       "14           Rio   49955"
      ]
     },
     "execution_count": 28,
     "metadata": {},
     "output_type": "execute_result"
    }
   ],
   "source": [
    "fogo_estados = df.groupby(by = 'state')['number'].sum().sort_values(ascending = False).head(15).reset_index()\n",
    "fogo_estados = fogo_estados.sort_values(by = 'number', ascending = False)\n",
    "\n",
    "fogo_estados"
   ]
  },
  {
   "cell_type": "code",
   "execution_count": 29,
   "id": "448bdb92-8083-47a5-9937-88f7ae882c32",
   "metadata": {},
   "outputs": [
    {
     "data": {
      "text/plain": [
       "<function matplotlib.pyplot.tight_layout(*, pad: 'float' = 1.08, h_pad: 'float | None' = None, w_pad: 'float | None' = None, rect: 'tuple[float, float, float, float] | None' = None) -> 'None'>"
      ]
     },
     "execution_count": 29,
     "metadata": {},
     "output_type": "execute_result"
    },
    {
     "data": {
      "image/png": "[encoded data removed]",
      "text/plain": [
       "<Figure size 1000x600 with 1 Axes>"
      ]
     },
     "metadata": {},
     "output_type": "display_data"
    }
   ],
   "source": [
    "plt.figure(figsize=(10,6))\n",
    "sns.barplot(x='number', y='state', data=fogo_estados, palette = 'Reds_r', edgecolor='black')\n",
    "\n",
    "plt.title('Estados que mais registram queimadas', fontweight='bold')\n",
    "plt.ylabel('')\n",
    "plt.xlabel('Número Total')\n",
    "plt.tight_layout\n",
    "plt.savefig('C:/Users/zoomg/Downloads/analise-amazon/graficos/mediames.png')"
   ]
  },
  {
   "cell_type": "code",
   "execution_count": null,
   "id": "df96a5af-3737-4023-b84b-ef9d2c5be133",
   "metadata": {},
   "outputs": [],
   "source": []
  },
  {
   "cell_type": "code",
   "execution_count": null,
   "id": "0058ad79-d8a7-4944-bc33-8957d0460be9",
   "metadata": {},
   "outputs": [],
   "source": []
  },
  {
   "cell_type": "code",
   "execution_count": null,
   "id": "9b66841b-1755-4d43-ae6b-54904ecf9995",
   "metadata": {},
   "outputs": [],
   "source": []
  },
  {
   "cell_type": "code",
   "execution_count": 30,
   "id": "ecd0e1e9-99df-47f4-945f-dc2872f04581",
   "metadata": {},
   "outputs": [],
   "source": [
    "soma_mes2 = df.groupby(['month','year'])['number'].sum().reset_index()\n",
    "\n",
    "soma_mes['month'] = pd.Categorical(soma_mes['month'], categories=month_order, ordered=True)"
   ]
  },
  {
   "cell_type": "code",
   "execution_count": 31,
   "id": "20daa218-93ba-4a3f-bfdb-e040ebec0ad0",
   "metadata": {},
   "outputs": [
    {
     "data": {
      "text/html": [
       "<div>\n",
       "<style scoped>\n",
       "    .dataframe tbody tr th:only-of-type {\n",
       "        vertical-align: middle;\n",
       "    }\n",
       "\n",
       "    .dataframe tbody tr th {\n",
       "        vertical-align: top;\n",
       "    }\n",
       "\n",
       "    .dataframe thead th {\n",
       "        text-align: right;\n",
       "    }\n",
       "</style>\n",
       "<table border=\"1\" class=\"dataframe\">\n",
       "  <thead>\n",
       "    <tr style=\"text-align: right;\">\n",
       "      <th></th>\n",
       "      <th>month</th>\n",
       "      <th>year</th>\n",
       "      <th>number</th>\n",
       "    </tr>\n",
       "  </thead>\n",
       "  <tbody>\n",
       "    <tr>\n",
       "      <th>0</th>\n",
       "      <td>Abril</td>\n",
       "      <td>1998</td>\n",
       "      <td>0</td>\n",
       "    </tr>\n",
       "    <tr>\n",
       "      <th>1</th>\n",
       "      <td>Abril</td>\n",
       "      <td>1999</td>\n",
       "      <td>717</td>\n",
       "    </tr>\n",
       "    <tr>\n",
       "      <th>2</th>\n",
       "      <td>Abril</td>\n",
       "      <td>2000</td>\n",
       "      <td>537</td>\n",
       "    </tr>\n",
       "    <tr>\n",
       "      <th>3</th>\n",
       "      <td>Abril</td>\n",
       "      <td>2001</td>\n",
       "      <td>1081</td>\n",
       "    </tr>\n",
       "    <tr>\n",
       "      <th>4</th>\n",
       "      <td>Abril</td>\n",
       "      <td>2002</td>\n",
       "      <td>1682</td>\n",
       "    </tr>\n",
       "    <tr>\n",
       "      <th>...</th>\n",
       "      <td>...</td>\n",
       "      <td>...</td>\n",
       "      <td>...</td>\n",
       "    </tr>\n",
       "    <tr>\n",
       "      <th>234</th>\n",
       "      <td>Setembro</td>\n",
       "      <td>2013</td>\n",
       "      <td>25069</td>\n",
       "    </tr>\n",
       "    <tr>\n",
       "      <th>235</th>\n",
       "      <td>Setembro</td>\n",
       "      <td>2014</td>\n",
       "      <td>37225</td>\n",
       "    </tr>\n",
       "    <tr>\n",
       "      <th>236</th>\n",
       "      <td>Setembro</td>\n",
       "      <td>2015</td>\n",
       "      <td>67124</td>\n",
       "    </tr>\n",
       "    <tr>\n",
       "      <th>237</th>\n",
       "      <td>Setembro</td>\n",
       "      <td>2016</td>\n",
       "      <td>35978</td>\n",
       "    </tr>\n",
       "    <tr>\n",
       "      <th>238</th>\n",
       "      <td>Setembro</td>\n",
       "      <td>2017</td>\n",
       "      <td>110988</td>\n",
       "    </tr>\n",
       "  </tbody>\n",
       "</table>\n",
       "<p>239 rows × 3 columns</p>\n",
       "</div>"
      ],
      "text/plain": [
       "        month  year  number\n",
       "0       Abril  1998       0\n",
       "1       Abril  1999     717\n",
       "2       Abril  2000     537\n",
       "3       Abril  2001    1081\n",
       "4       Abril  2002    1682\n",
       "..        ...   ...     ...\n",
       "234  Setembro  2013   25069\n",
       "235  Setembro  2014   37225\n",
       "236  Setembro  2015   67124\n",
       "237  Setembro  2016   35978\n",
       "238  Setembro  2017  110988\n",
       "\n",
       "[239 rows x 3 columns]"
      ]
     },
     "execution_count": 31,
     "metadata": {},
     "output_type": "execute_result"
    }
   ],
   "source": [
    "soma_mes2"
   ]
  },
  {
   "cell_type": "code",
   "execution_count": 32,
   "id": "9ac24531-5e5a-4e6e-8710-d0a9992ae1ee",
   "metadata": {},
   "outputs": [],
   "source": [
    "soma_mes2['month'] = pd.Categorical(soma_mes2['month'], categories=month_order, ordered=True)"
   ]
  },
  {
   "cell_type": "code",
   "execution_count": 33,
   "id": "a8ef445e-bc08-40e1-b13a-ec3fba1eb10f",
   "metadata": {},
   "outputs": [
    {
     "data": {
      "text/html": [
       "<div>\n",
       "<style scoped>\n",
       "    .dataframe tbody tr th:only-of-type {\n",
       "        vertical-align: middle;\n",
       "    }\n",
       "\n",
       "    .dataframe tbody tr th {\n",
       "        vertical-align: top;\n",
       "    }\n",
       "\n",
       "    .dataframe thead th {\n",
       "        text-align: right;\n",
       "    }\n",
       "</style>\n",
       "<table border=\"1\" class=\"dataframe\">\n",
       "  <thead>\n",
       "    <tr style=\"text-align: right;\">\n",
       "      <th>year</th>\n",
       "      <th>1998</th>\n",
       "      <th>1999</th>\n",
       "      <th>2000</th>\n",
       "      <th>2001</th>\n",
       "      <th>2002</th>\n",
       "      <th>2003</th>\n",
       "      <th>2004</th>\n",
       "      <th>2005</th>\n",
       "      <th>2006</th>\n",
       "      <th>2007</th>\n",
       "      <th>2008</th>\n",
       "      <th>2009</th>\n",
       "      <th>2010</th>\n",
       "      <th>2011</th>\n",
       "      <th>2012</th>\n",
       "      <th>2013</th>\n",
       "      <th>2014</th>\n",
       "      <th>2015</th>\n",
       "      <th>2016</th>\n",
       "      <th>2017</th>\n",
       "    </tr>\n",
       "    <tr>\n",
       "      <th>month</th>\n",
       "      <th></th>\n",
       "      <th></th>\n",
       "      <th></th>\n",
       "      <th></th>\n",
       "      <th></th>\n",
       "      <th></th>\n",
       "      <th></th>\n",
       "      <th></th>\n",
       "      <th></th>\n",
       "      <th></th>\n",
       "      <th></th>\n",
       "      <th></th>\n",
       "      <th></th>\n",
       "      <th></th>\n",
       "      <th></th>\n",
       "      <th></th>\n",
       "      <th></th>\n",
       "      <th></th>\n",
       "      <th></th>\n",
       "      <th></th>\n",
       "    </tr>\n",
       "  </thead>\n",
       "  <tbody>\n",
       "    <tr>\n",
       "      <th>Janeiro</th>\n",
       "      <td>0.0</td>\n",
       "      <td>1081.0</td>\n",
       "      <td>778.0</td>\n",
       "      <td>547.0</td>\n",
       "      <td>1654.0</td>\n",
       "      <td>5091.0</td>\n",
       "      <td>2705.0</td>\n",
       "      <td>4990.0</td>\n",
       "      <td>3255.0</td>\n",
       "      <td>3055.0</td>\n",
       "      <td>2125.0</td>\n",
       "      <td>2848.0</td>\n",
       "      <td>2851.0</td>\n",
       "      <td>1416.0</td>\n",
       "      <td>2491.0</td>\n",
       "      <td>2045.0</td>\n",
       "      <td>2633.0</td>\n",
       "      <td>4635.0</td>\n",
       "      <td>5979.0</td>\n",
       "      <td>2342.0</td>\n",
       "    </tr>\n",
       "    <tr>\n",
       "      <th>Fevereiro</th>\n",
       "      <td>0.0</td>\n",
       "      <td>1284.0</td>\n",
       "      <td>561.0</td>\n",
       "      <td>1059.0</td>\n",
       "      <td>1570.0</td>\n",
       "      <td>2398.0</td>\n",
       "      <td>1255.0</td>\n",
       "      <td>2153.0</td>\n",
       "      <td>1666.0</td>\n",
       "      <td>1751.0</td>\n",
       "      <td>1275.0</td>\n",
       "      <td>1140.0</td>\n",
       "      <td>2386.0</td>\n",
       "      <td>973.0</td>\n",
       "      <td>1436.0</td>\n",
       "      <td>1578.0</td>\n",
       "      <td>1547.0</td>\n",
       "      <td>2309.0</td>\n",
       "      <td>3202.0</td>\n",
       "      <td>1400.0</td>\n",
       "    </tr>\n",
       "    <tr>\n",
       "      <th>Março</th>\n",
       "      <td>0.0</td>\n",
       "      <td>667.0</td>\n",
       "      <td>848.0</td>\n",
       "      <td>1268.0</td>\n",
       "      <td>1679.0</td>\n",
       "      <td>2749.0</td>\n",
       "      <td>2040.0</td>\n",
       "      <td>1706.0</td>\n",
       "      <td>1766.0</td>\n",
       "      <td>2136.0</td>\n",
       "      <td>1239.0</td>\n",
       "      <td>1392.0</td>\n",
       "      <td>2417.0</td>\n",
       "      <td>937.0</td>\n",
       "      <td>2058.0</td>\n",
       "      <td>1969.0</td>\n",
       "      <td>2224.0</td>\n",
       "      <td>2202.0</td>\n",
       "      <td>3796.0</td>\n",
       "      <td>2017.0</td>\n",
       "    </tr>\n",
       "    <tr>\n",
       "      <th>Abril</th>\n",
       "      <td>0.0</td>\n",
       "      <td>717.0</td>\n",
       "      <td>537.0</td>\n",
       "      <td>1081.0</td>\n",
       "      <td>1682.0</td>\n",
       "      <td>2677.0</td>\n",
       "      <td>1332.0</td>\n",
       "      <td>1011.0</td>\n",
       "      <td>792.0</td>\n",
       "      <td>415.0</td>\n",
       "      <td>1253.0</td>\n",
       "      <td>1077.0</td>\n",
       "      <td>2200.0</td>\n",
       "      <td>1152.0</td>\n",
       "      <td>2193.0</td>\n",
       "      <td>1372.0</td>\n",
       "      <td>2358.0</td>\n",
       "      <td>2573.0</td>\n",
       "      <td>2379.0</td>\n",
       "      <td>1559.0</td>\n",
       "    </tr>\n",
       "    <tr>\n",
       "      <th>Maio</th>\n",
       "      <td>0.0</td>\n",
       "      <td>1812.0</td>\n",
       "      <td>2097.0</td>\n",
       "      <td>2086.0</td>\n",
       "      <td>3818.0</td>\n",
       "      <td>1747.0</td>\n",
       "      <td>3535.0</td>\n",
       "      <td>3210.0</td>\n",
       "      <td>808.0</td>\n",
       "      <td>1284.0</td>\n",
       "      <td>553.0</td>\n",
       "      <td>2593.0</td>\n",
       "      <td>3497.0</td>\n",
       "      <td>1985.0</td>\n",
       "      <td>3240.0</td>\n",
       "      <td>2165.0</td>\n",
       "      <td>3189.0</td>\n",
       "      <td>2384.0</td>\n",
       "      <td>3568.0</td>\n",
       "      <td>2506.0</td>\n",
       "    </tr>\n",
       "    <tr>\n",
       "      <th>Junho</th>\n",
       "      <td>3551.0</td>\n",
       "      <td>3632.0</td>\n",
       "      <td>6275.0</td>\n",
       "      <td>8420.0</td>\n",
       "      <td>10839.0</td>\n",
       "      <td>6506.0</td>\n",
       "      <td>14262.0</td>\n",
       "      <td>5811.0</td>\n",
       "      <td>1968.0</td>\n",
       "      <td>3956.0</td>\n",
       "      <td>1287.0</td>\n",
       "      <td>2962.0</td>\n",
       "      <td>3642.0</td>\n",
       "      <td>4578.0</td>\n",
       "      <td>5890.0</td>\n",
       "      <td>3898.0</td>\n",
       "      <td>6483.0</td>\n",
       "      <td>4775.0</td>\n",
       "      <td>6339.0</td>\n",
       "      <td>6318.0</td>\n",
       "    </tr>\n",
       "    <tr>\n",
       "      <th>Julho</th>\n",
       "      <td>8066.0</td>\n",
       "      <td>8756.0</td>\n",
       "      <td>4739.0</td>\n",
       "      <td>6490.0</td>\n",
       "      <td>13751.0</td>\n",
       "      <td>11804.0</td>\n",
       "      <td>23809.0</td>\n",
       "      <td>15663.0</td>\n",
       "      <td>5722.0</td>\n",
       "      <td>6190.0</td>\n",
       "      <td>4507.0</td>\n",
       "      <td>6599.0</td>\n",
       "      <td>16646.0</td>\n",
       "      <td>8524.0</td>\n",
       "      <td>13507.0</td>\n",
       "      <td>5843.0</td>\n",
       "      <td>10801.0</td>\n",
       "      <td>8752.0</td>\n",
       "      <td>19141.0</td>\n",
       "      <td>18303.0</td>\n",
       "    </tr>\n",
       "    <tr>\n",
       "      <th>Agosto</th>\n",
       "      <td>35549.0</td>\n",
       "      <td>38415.0</td>\n",
       "      <td>22202.0</td>\n",
       "      <td>31887.0</td>\n",
       "      <td>55099.0</td>\n",
       "      <td>37382.0</td>\n",
       "      <td>48038.0</td>\n",
       "      <td>39912.0</td>\n",
       "      <td>29443.0</td>\n",
       "      <td>66837.0</td>\n",
       "      <td>14528.0</td>\n",
       "      <td>15534.0</td>\n",
       "      <td>58985.0</td>\n",
       "      <td>22477.0</td>\n",
       "      <td>42422.0</td>\n",
       "      <td>16143.0</td>\n",
       "      <td>41928.0</td>\n",
       "      <td>37167.0</td>\n",
       "      <td>37408.0</td>\n",
       "      <td>49485.0</td>\n",
       "    </tr>\n",
       "    <tr>\n",
       "      <th>Setembro</th>\n",
       "      <td>41968.0</td>\n",
       "      <td>36913.0</td>\n",
       "      <td>22319.0</td>\n",
       "      <td>32193.0</td>\n",
       "      <td>49566.0</td>\n",
       "      <td>55913.0</td>\n",
       "      <td>70531.0</td>\n",
       "      <td>74574.0</td>\n",
       "      <td>41264.0</td>\n",
       "      <td>78299.0</td>\n",
       "      <td>35836.0</td>\n",
       "      <td>25002.0</td>\n",
       "      <td>75679.0</td>\n",
       "      <td>50301.0</td>\n",
       "      <td>49183.0</td>\n",
       "      <td>25069.0</td>\n",
       "      <td>37225.0</td>\n",
       "      <td>67124.0</td>\n",
       "      <td>35978.0</td>\n",
       "      <td>110988.0</td>\n",
       "    </tr>\n",
       "    <tr>\n",
       "      <th>Outubro</th>\n",
       "      <td>23495.0</td>\n",
       "      <td>27012.0</td>\n",
       "      <td>24321.0</td>\n",
       "      <td>31038.0</td>\n",
       "      <td>47722.0</td>\n",
       "      <td>43295.0</td>\n",
       "      <td>36002.0</td>\n",
       "      <td>49876.0</td>\n",
       "      <td>21854.0</td>\n",
       "      <td>27911.0</td>\n",
       "      <td>37617.0</td>\n",
       "      <td>24202.0</td>\n",
       "      <td>31485.0</td>\n",
       "      <td>16879.0</td>\n",
       "      <td>22333.0</td>\n",
       "      <td>21325.0</td>\n",
       "      <td>35320.0</td>\n",
       "      <td>44138.0</td>\n",
       "      <td>27843.0</td>\n",
       "      <td>35997.0</td>\n",
       "    </tr>\n",
       "    <tr>\n",
       "      <th>Novembro</th>\n",
       "      <td>6804.0</td>\n",
       "      <td>8860.0</td>\n",
       "      <td>8399.0</td>\n",
       "      <td>15639.0</td>\n",
       "      <td>20691.0</td>\n",
       "      <td>23572.0</td>\n",
       "      <td>27892.0</td>\n",
       "      <td>21752.0</td>\n",
       "      <td>9754.0</td>\n",
       "      <td>10494.0</td>\n",
       "      <td>12778.0</td>\n",
       "      <td>18919.0</td>\n",
       "      <td>16584.0</td>\n",
       "      <td>12221.0</td>\n",
       "      <td>11777.0</td>\n",
       "      <td>12150.0</td>\n",
       "      <td>17989.0</td>\n",
       "      <td>20590.0</td>\n",
       "      <td>20153.0</td>\n",
       "      <td>15308.0</td>\n",
       "    </tr>\n",
       "    <tr>\n",
       "      <th>Dezembro</th>\n",
       "      <td>4448.0</td>\n",
       "      <td>3377.0</td>\n",
       "      <td>4465.0</td>\n",
       "      <td>6201.0</td>\n",
       "      <td>11944.0</td>\n",
       "      <td>15342.0</td>\n",
       "      <td>17524.0</td>\n",
       "      <td>3636.0</td>\n",
       "      <td>5027.0</td>\n",
       "      <td>4075.0</td>\n",
       "      <td>4995.0</td>\n",
       "      <td>9494.0</td>\n",
       "      <td>6856.0</td>\n",
       "      <td>9828.0</td>\n",
       "      <td>6823.0</td>\n",
       "      <td>12006.0</td>\n",
       "      <td>8562.0</td>\n",
       "      <td>12647.0</td>\n",
       "      <td>5346.0</td>\n",
       "      <td>NaN</td>\n",
       "    </tr>\n",
       "  </tbody>\n",
       "</table>\n",
       "</div>"
      ],
      "text/plain": [
       "year          1998     1999     2000     2001     2002     2003     2004  \\\n",
       "month                                                                      \n",
       "Janeiro        0.0   1081.0    778.0    547.0   1654.0   5091.0   2705.0   \n",
       "Fevereiro      0.0   1284.0    561.0   1059.0   1570.0   2398.0   1255.0   \n",
       "Março          0.0    667.0    848.0   1268.0   1679.0   2749.0   2040.0   \n",
       "Abril          0.0    717.0    537.0   1081.0   1682.0   2677.0   1332.0   \n",
       "Maio           0.0   1812.0   2097.0   2086.0   3818.0   1747.0   3535.0   \n",
       "Junho       3551.0   3632.0   6275.0   8420.0  10839.0   6506.0  14262.0   \n",
       "Julho       8066.0   8756.0   4739.0   6490.0  13751.0  11804.0  23809.0   \n",
       "Agosto     35549.0  38415.0  22202.0  31887.0  55099.0  37382.0  48038.0   \n",
       "Setembro   41968.0  36913.0  22319.0  32193.0  49566.0  55913.0  70531.0   \n",
       "Outubro    23495.0  27012.0  24321.0  31038.0  47722.0  43295.0  36002.0   \n",
       "Novembro    6804.0   8860.0   8399.0  15639.0  20691.0  23572.0  27892.0   \n",
       "Dezembro    4448.0   3377.0   4465.0   6201.0  11944.0  15342.0  17524.0   \n",
       "\n",
       "year          2005     2006     2007     2008     2009     2010     2011  \\\n",
       "month                                                                      \n",
       "Janeiro     4990.0   3255.0   3055.0   2125.0   2848.0   2851.0   1416.0   \n",
       "Fevereiro   2153.0   1666.0   1751.0   1275.0   1140.0   2386.0    973.0   \n",
       "Março       1706.0   1766.0   2136.0   1239.0   1392.0   2417.0    937.0   \n",
       "Abril       1011.0    792.0    415.0   1253.0   1077.0   2200.0   1152.0   \n",
       "Maio        3210.0    808.0   1284.0    553.0   2593.0   3497.0   1985.0   \n",
       "Junho       5811.0   1968.0   3956.0   1287.0   2962.0   3642.0   4578.0   \n",
       "Julho      15663.0   5722.0   6190.0   4507.0   6599.0  16646.0   8524.0   \n",
       "Agosto     39912.0  29443.0  66837.0  14528.0  15534.0  58985.0  22477.0   \n",
       "Setembro   74574.0  41264.0  78299.0  35836.0  25002.0  75679.0  50301.0   \n",
       "Outubro    49876.0  21854.0  27911.0  37617.0  24202.0  31485.0  16879.0   \n",
       "Novembro   21752.0   9754.0  10494.0  12778.0  18919.0  16584.0  12221.0   \n",
       "Dezembro    3636.0   5027.0   4075.0   4995.0   9494.0   6856.0   9828.0   \n",
       "\n",
       "year          2012     2013     2014     2015     2016      2017  \n",
       "month                                                             \n",
       "Janeiro     2491.0   2045.0   2633.0   4635.0   5979.0    2342.0  \n",
       "Fevereiro   1436.0   1578.0   1547.0   2309.0   3202.0    1400.0  \n",
       "Março       2058.0   1969.0   2224.0   2202.0   3796.0    2017.0  \n",
       "Abril       2193.0   1372.0   2358.0   2573.0   2379.0    1559.0  \n",
       "Maio        3240.0   2165.0   3189.0   2384.0   3568.0    2506.0  \n",
       "Junho       5890.0   3898.0   6483.0   4775.0   6339.0    6318.0  \n",
       "Julho      13507.0   5843.0  10801.0   8752.0  19141.0   18303.0  \n",
       "Agosto     42422.0  16143.0  41928.0  37167.0  37408.0   49485.0  \n",
       "Setembro   49183.0  25069.0  37225.0  67124.0  35978.0  110988.0  \n",
       "Outubro    22333.0  21325.0  35320.0  44138.0  27843.0   35997.0  \n",
       "Novembro   11777.0  12150.0  17989.0  20590.0  20153.0   15308.0  \n",
       "Dezembro    6823.0  12006.0   8562.0  12647.0   5346.0       NaN  "
      ]
     },
     "execution_count": 33,
     "metadata": {},
     "output_type": "execute_result"
    }
   ],
   "source": [
    "soma_mes2.pivot_table(values='number',index='month',columns='year')"
   ]
  },
  {
   "cell_type": "code",
   "execution_count": 34,
   "id": "16b5d6fc-3ba9-442f-9025-f1fd69d95b2d",
   "metadata": {},
   "outputs": [],
   "source": [
    "pvmes = soma_mes2.pivot_table(values='number',index='month',columns='year')\n",
    "pvmes.fillna(0, inplace=True)"
   ]
  },
  {
   "cell_type": "code",
   "execution_count": 35,
   "id": "ed9c0eb4-bc0e-4007-a29c-ec4701972040",
   "metadata": {},
   "outputs": [
    {
     "data": {
      "text/plain": [
       "Text(0.5, 1.0, 'Número de Focos de Queimada ao longo dos anos')"
      ]
     },
     "execution_count": 35,
     "metadata": {},
     "output_type": "execute_result"
    },
    {
     "data": {
      "image/png": "[encoded data removed]",
      "text/plain": [
       "<Figure size 1200x600 with 2 Axes>"
      ]
     },
     "metadata": {},
     "output_type": "display_data"
    }
   ],
   "source": [
    "plt.figure(figsize=(12,6))\n",
    "sns.heatmap(pvmes,cmap='flare',linecolor='black',linewidths=0.1,vmin=1,vmax=50000)\n",
    "plt.xlabel('')\n",
    "plt.ylabel('')\n",
    "plt.title('Número de Focos de Queimada ao longo dos anos')"
   ]
  },
  {
   "cell_type": "code",
   "execution_count": null,
   "id": "10c4dccd-b797-42df-ad5f-fd3550acbdbc",
   "metadata": {},
   "outputs": [],
   "source": []
  }
 ],
 "metadata": {
  "kernelspec": {
   "display_name": "Python [conda env:base] *",
   "language": "python",
   "name": "conda-base-py"
  },
  "language_info": {
   "codemirror_mode": {
    "name": "ipython",
    "version": 3
   },
   "file_extension": ".py",
   "mimetype": "text/x-python",
   "name": "python",
   "nbconvert_exporter": "python",
   "pygments_lexer": "ipython3",
   "version": "3.12.7"
  }
 },
 "nbformat": 4,
 "nbformat_minor": 5
}
